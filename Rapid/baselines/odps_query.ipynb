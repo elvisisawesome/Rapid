{
 "cells": [
  {
   "cell_type": "code",
   "execution_count": null,
   "metadata": {},
   "outputs": [],
   "source": [
    "%%sql\n",
    "\n",
    "-- Features Calculation\n",
    "CREATE TABLE ca_polygon_par AS \n",
    "SELECT \n",
    "    polygon_area_udf(geometry) AS area, \n",
    "    polygon_perimeter_udf(geometry) AS perimeter, \n",
    "    polygon_center_udf(geometry, \"lon\") AS lon, \n",
    "    polygon_center_udf(geometry, \"lat\") AS lat \n",
    "FROM ca_polygon;\n",
    "\n",
    "-- PIG calculation\n",
    "CREATE TABLE ca_polygon_index_res01 AS \n",
    "SELECT \n",
    "    area, \n",
    "    perimeter, \n",
    "    grid_index_cal(lon, lat, -180, 180, -90, 90, 0.1) AS grid_id \n",
    "FROM ca_polygon_par;\n",
    "\n",
    "-- Aggregation\n",
    "CREATE TABLE ca_result_res01 AS \n",
    "SELECT \n",
    "    grid_id, \n",
    "    COUNT(*) AS count, \n",
    "    SUM(area) AS area, \n",
    "    SUM(perimeter) AS perimeter, \n",
    "    grid_geometry_gen(grid_id, -180, 180, -90, 90, 0.1) AS geometry \n",
    "FROM ca_polygon_index_res01 \n",
    "GROUP BY grid_id;"
   ]
  }
 ],
 "metadata": {
  "kernelspec": {
   "display_name": "base",
   "language": "python",
   "name": "python3"
  },
  "language_info": {
   "codemirror_mode": {
    "name": "ipython",
    "version": 3
   },
   "file_extension": ".py",
   "mimetype": "text/x-python",
   "name": "python",
   "nbconvert_exporter": "python",
   "pygments_lexer": "ipython3",
   "version": "3.10.15"
  }
 },
 "nbformat": 4,
 "nbformat_minor": 2
}
