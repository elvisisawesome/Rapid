{
 "cells": [
  {
   "cell_type": "markdown",
   "metadata": {},
   "source": [
    "### CA polygon"
   ]
  },
  {
   "cell_type": "code",
   "execution_count": null,
   "metadata": {},
   "outputs": [],
   "source": [
    "%%sql\n",
    "-- create original polygon table\n",
    "CREATE TABLE ca_polygon (column1 TEXT, ...);\n",
    "\n",
    "-- load the data to mysql table\n",
    "LOAD DATA INFILE './CA_polygon.csv'\n",
    "INTO TABLE ca_polygon\n",
    "FIELDS TERMINATED BY ','   \n",
    "ENCLOSED BY '\"'             \n",
    "LINES TERMINATED BY '\\r\\n'    \n",
    "IGNORE 1 ROWS;     \n",
    "\n",
    "-- create udf function: \n",
    "CREATE FUNCTION <function_name> RETURNS <STRING/INTEGER/REAL> SONAME '<udf_file_name>.so';\n",
    "\n",
    "\n",
    "-- Rapid process\n",
    "\n",
    "-- Features calculation\n",
    "CREATE TABLE ca_polygon_par AS \n",
    "SELECT \n",
    "    polygon_area(coordinate) AS area, \n",
    "    polygon_perimeter(coordinate) AS perimeter, \n",
    "    polygon_center(coordinate, \"lon\") AS lon, \n",
    "    polygon_center(coordinate, \"lat\") AS lat \n",
    "FROM ca_polygon;\n",
    "\n",
    "-- PIG calculation\n",
    "CREATE TABLE ca_polygon_index_res01 AS \n",
    "SELECT \n",
    "    area, \n",
    "    perimeter, \n",
    "    grid_index_cal(lon, lat, CAST(-180 AS DOUBLE), CAST(180 AS DOUBLE), CAST(-90 AS DOUBLE), CAST(90 AS DOUBLE), CAST(0.1 AS DOUBLE)) AS grid_id \n",
    "FROM ca_polygon_par;\n",
    "\n",
    "-- Aggregation\n",
    "CREATE TABLE ca_result_res01 AS \n",
    "SELECT \n",
    "    grid_id, \n",
    "    COUNT(*) AS count, \n",
    "    SUM(area) AS area, \n",
    "    SUM(perimeter) AS perimeter, \n",
    "    grid_geometry_gen(grid_id, CAST(-180 AS DOUBLE), CAST(180 AS DOUBLE), CAST(-90 AS DOUBLE), CAST(90 AS DOUBLE), CAST(0.1 AS DOUBLE)) AS geometry \n",
    "FROM ca_polygon_index_res01\n",
    "GROUP BY grid_id;"
   ]
  }
 ],
 "metadata": {
  "kernelspec": {
   "display_name": "base",
   "language": "python",
   "name": "python3"
  },
  "language_info": {
   "codemirror_mode": {
    "name": "ipython",
    "version": 3
   },
   "file_extension": ".py",
   "mimetype": "text/x-python",
   "name": "python",
   "nbconvert_exporter": "python",
   "pygments_lexer": "ipython3",
   "version": "3.10.15"
  }
 },
 "nbformat": 4,
 "nbformat_minor": 2
}
